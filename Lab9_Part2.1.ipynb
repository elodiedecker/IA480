{
 "cells": [
  {
   "cell_type": "markdown",
   "id": "a7f7f8f4-d37f-4886-ad2f-9a1d9661bd1b",
   "metadata": {},
   "source": [
    "# Analyzing Data and Interpreting Images with OpenAI's o1 Reasoning Model vs. GPT"
   ]
  },
  {
   "cell_type": "markdown",
   "id": "271a830d-95fd-4bb0-8156-f4ce5ee41f95",
   "metadata": {},
   "source": [
    "## Introduction\n",
    "OpenAI's o1 reasoning model is designed for complex problem-solving, data analysis, and image interpretation by simulating a multi-step thought process before generating responses. Unlike traditional GPT models, which produce output in a single pass, reasoning models use internal **reasoning tokens** to explore multiple approaches before finalizing an answer.\n",
    "<p align=\"center\">\n",
    "    <img src=\"https://cdn.openai.com/API/images/guides/reasoning_tokens.png\" alt=\"Reasoning Tokens\" width=\"600\">\n",
    "</p>  \n",
    "\n",
    "*Source: [OpenAI Reasoning Models Guide](https://platform.openai.com/docs/guides/reasoning)*\n",
    "\n",
    "**Key Differences: o1 Reasoning Model vs. GPT**\n",
    "- Multi-step reasoning: o1 evaluates different solutions before selecting the best response.\n",
    "- Deeper analytical capabilities: Optimized for complex data interpretation tasks.\n",
    "- Context-aware image analysis: Provides more structured and insightful image descriptions.\n",
    "- Reasoning Effort Control: Users can adjust the depth of reasoning (`low`, `medium`, `high`).\n",
    "\n",
    "\n",
    "For more details, refer to the [OpenAI Reasoning Models Guide](https://platform.openai.com/docs/guides/reasoning).\n"
   ]
  },
  {
   "cell_type": "markdown",
   "id": "aaa19529-a6a5-486b-802e-ddfb39fb85f1",
   "metadata": {},
   "source": [
    "## Purchase and Store API Key\n",
    "\n",
    "You need to **purchase** your [OpenAI](https://openai.com/) API key and store it securely, such as in **AWS Secrets Manager**.\n",
    "\n",
    "- **Key Name:** `api_key`  \n",
    "- **Key Value:** `<your OpenAI API key>`  \n",
    "- **Secret Name:** `openai`  "
   ]
  },
  {
   "cell_type": "markdown",
   "id": "5a126d9e-1487-4905-8cc0-5d55d1a06594",
   "metadata": {},
   "source": [
    "## Install Python Libraries\n",
    "\n",
    "- **openai**: Used to call `o1` and `GPT` models for data analysis and image interpretation."
   ]
  },
  {
   "cell_type": "code",
   "execution_count": 3,
   "id": "7f05dcb1-dab0-4a06-bf2b-c695a8d19d6d",
   "metadata": {},
   "outputs": [
    {
     "name": "stdout",
     "output_type": "stream",
     "text": [
      "Note: you may need to restart the kernel to use updated packages.\n"
     ]
    }
   ],
   "source": [
    "pip install openai -q"
   ]
  },
  {
   "cell_type": "markdown",
   "id": "ca255da8-7177-49e6-bff7-27501305b4f6",
   "metadata": {},
   "source": [
    "## Import Required Libraries\n",
    "\n",
    "The following libraries are used in this notebook:\n",
    "\n",
    "- **boto3**: AWS SDK for Python, used to interact with AWS services.\n",
    "- **json**: Standard Python library for handling JSON data.\n",
    "- **IPython.display**: Provides tools to display images, Markdown content, and other rich media in Jupyter Notebook.\n",
    "- **openai**: Used to call `o1` and `GPT` models for data analysis and image interpretation.\n",
    "- **pandas**: A powerful library for data manipulation and analysis.\n",
    "- **pprint**: Pretty prints data structures for better readability."
   ]
  },
  {
   "cell_type": "code",
   "execution_count": 4,
   "id": "5db0d630-749f-484e-8d01-79ec39e0e56e",
   "metadata": {
    "scrolled": true
   },
   "outputs": [],
   "source": [
    "import boto3\n",
    "import json\n",
    "from IPython.display import display, Image, Markdown\n",
    "from openai import OpenAI\n",
    "import pandas as pd\n",
    "from pprint import pprint"
   ]
  },
  {
   "cell_type": "markdown",
   "id": "ddd547f9-8c03-4673-a194-e71e01b38a3d",
   "metadata": {},
   "source": [
    "## Retrieve API Keys Securely from AWS Secrets Manager\n",
    "\n",
    "The following function, `get_secret()`, retrieves a secret from **AWS Secrets Manager**. This is a secure way to store and access sensitive credentials, such as API keys, without hardcoding them into the script"
   ]
  },
  {
   "cell_type": "code",
   "execution_count": 5,
   "id": "7fd3f543-0716-483c-88ce-b41f5fb418cb",
   "metadata": {},
   "outputs": [],
   "source": [
    "def get_secret(secret_name):\n",
    "    region_name = \"us-east-1\"\n",
    "\n",
    "    # Create a Secrets Manager client\n",
    "    session = boto3.session.Session()\n",
    "    client = session.client(\n",
    "        service_name='secretsmanager',\n",
    "        region_name=region_name\n",
    "    )\n",
    "\n",
    "    try:\n",
    "        get_secret_value_response = client.get_secret_value(\n",
    "            SecretId=secret_name\n",
    "        )\n",
    "    except ClientError as e:\n",
    "        raise e\n",
    "\n",
    "    secret = get_secret_value_response['SecretString']\n",
    "    \n",
    "    return json.loads(secret)"
   ]
  },
  {
   "cell_type": "markdown",
   "id": "e5711939-503e-44f6-bb28-0671c1131e26",
   "metadata": {},
   "source": [
    "## Initialize OpenAI Client\n",
    "\n",
    "The following code initializes the OpenAI client using a securely stored API key retrieved from AWS Secrets Manager."
   ]
  },
  {
   "cell_type": "code",
   "execution_count": 6,
   "id": "921be4e1-921f-4c84-b68d-fc72b435cc3a",
   "metadata": {
    "scrolled": true
   },
   "outputs": [],
   "source": [
    "client = OpenAI(api_key= get_secret('openai')['api_key'])"
   ]
  },
  {
   "cell_type": "markdown",
   "id": "860098d7-cfcc-4791-9b42-c526f8ff620a",
   "metadata": {},
   "source": [
    "## Load and Analyze the an Intelligence Analysis Dataset\n"
   ]
  },
  {
   "cell_type": "code",
   "execution_count": 7,
   "id": "ebef8c09-e485-4bea-b86b-275cce615b63",
   "metadata": {},
   "outputs": [
    {
     "data": {
      "text/html": [
       "<div>\n",
       "<style scoped>\n",
       "    .dataframe tbody tr th:only-of-type {\n",
       "        vertical-align: middle;\n",
       "    }\n",
       "\n",
       "    .dataframe tbody tr th {\n",
       "        vertical-align: top;\n",
       "    }\n",
       "\n",
       "    .dataframe thead th {\n",
       "        text-align: right;\n",
       "    }\n",
       "</style>\n",
       "<table border=\"1\" class=\"dataframe\">\n",
       "  <thead>\n",
       "    <tr style=\"text-align: right;\">\n",
       "      <th></th>\n",
       "      <th>TIME_PERIOD</th>\n",
       "      <th>TIME_PERIOD_START</th>\n",
       "      <th>TIME_PERIOD_END</th>\n",
       "      <th>PRIMARY_TYPE</th>\n",
       "      <th>AGE</th>\n",
       "      <th>SEX</th>\n",
       "      <th>RACE</th>\n",
       "      <th>JUVENILE_I</th>\n",
       "      <th>DOMESTIC_I</th>\n",
       "      <th>GUNSHOT_INJURY_I</th>\n",
       "      <th>NUMBER_OF_VICTIMS</th>\n",
       "    </tr>\n",
       "  </thead>\n",
       "  <tbody>\n",
       "    <tr>\n",
       "      <th>0</th>\n",
       "      <td>2023 Q1</td>\n",
       "      <td>01/01/2023</td>\n",
       "      <td>03/31/2023</td>\n",
       "      <td>ASSAULT</td>\n",
       "      <td>30-39</td>\n",
       "      <td>UNKNOWN</td>\n",
       "      <td>UNKNOWN</td>\n",
       "      <td>False</td>\n",
       "      <td>False</td>\n",
       "      <td>NO</td>\n",
       "      <td>1</td>\n",
       "    </tr>\n",
       "    <tr>\n",
       "      <th>1</th>\n",
       "      <td>2022 Q2</td>\n",
       "      <td>03/01/2022</td>\n",
       "      <td>06/30/2022</td>\n",
       "      <td>BATTERY</td>\n",
       "      <td>70-79</td>\n",
       "      <td>M</td>\n",
       "      <td>API</td>\n",
       "      <td>False</td>\n",
       "      <td>False</td>\n",
       "      <td>NO</td>\n",
       "      <td>3</td>\n",
       "    </tr>\n",
       "    <tr>\n",
       "      <th>2</th>\n",
       "      <td>2012 Q4</td>\n",
       "      <td>10/01/2012</td>\n",
       "      <td>12/31/2012</td>\n",
       "      <td>BATTERY</td>\n",
       "      <td>20-29</td>\n",
       "      <td>UNKNOWN</td>\n",
       "      <td>UNKNOWN</td>\n",
       "      <td>False</td>\n",
       "      <td>False</td>\n",
       "      <td>NO</td>\n",
       "      <td>1</td>\n",
       "    </tr>\n",
       "    <tr>\n",
       "      <th>3</th>\n",
       "      <td>2003 Q2</td>\n",
       "      <td>03/01/2003</td>\n",
       "      <td>06/30/2003</td>\n",
       "      <td>CRIMINAL SEXUAL ASSAULT</td>\n",
       "      <td>0-19</td>\n",
       "      <td>F</td>\n",
       "      <td>WWH</td>\n",
       "      <td>True</td>\n",
       "      <td>False</td>\n",
       "      <td>UNKNOWN</td>\n",
       "      <td>42</td>\n",
       "    </tr>\n",
       "    <tr>\n",
       "      <th>4</th>\n",
       "      <td>2008 Q3</td>\n",
       "      <td>07/01/2008</td>\n",
       "      <td>09/30/2008</td>\n",
       "      <td>BATTERY</td>\n",
       "      <td>30-39</td>\n",
       "      <td>M</td>\n",
       "      <td>WBH</td>\n",
       "      <td>False</td>\n",
       "      <td>False</td>\n",
       "      <td>UNKNOWN</td>\n",
       "      <td>1</td>\n",
       "    </tr>\n",
       "  </tbody>\n",
       "</table>\n",
       "</div>"
      ],
      "text/plain": [
       "  TIME_PERIOD TIME_PERIOD_START TIME_PERIOD_END             PRIMARY_TYPE  \\\n",
       "0     2023 Q1        01/01/2023      03/31/2023                  ASSAULT   \n",
       "1     2022 Q2        03/01/2022      06/30/2022                  BATTERY   \n",
       "2     2012 Q4        10/01/2012      12/31/2012                  BATTERY   \n",
       "3     2003 Q2        03/01/2003      06/30/2003  CRIMINAL SEXUAL ASSAULT   \n",
       "4     2008 Q3        07/01/2008      09/30/2008                  BATTERY   \n",
       "\n",
       "     AGE      SEX     RACE JUVENILE_I  DOMESTIC_I GUNSHOT_INJURY_I  \\\n",
       "0  30-39  UNKNOWN  UNKNOWN      False       False               NO   \n",
       "1  70-79        M      API      False       False               NO   \n",
       "2  20-29  UNKNOWN  UNKNOWN      False       False               NO   \n",
       "3   0-19        F      WWH       True       False          UNKNOWN   \n",
       "4  30-39        M      WBH      False       False          UNKNOWN   \n",
       "\n",
       "   NUMBER_OF_VICTIMS  \n",
       "0                  1  \n",
       "1                  3  \n",
       "2                  1  \n",
       "3                 42  \n",
       "4                  1  "
      ]
     },
     "execution_count": 7,
     "metadata": {},
     "output_type": "execute_result"
    }
   ],
   "source": [
    "df = 1. Early Days (2009–2013): The Wild West Era\n",
    "Bitcoin, launched in 2009, attracted early adopters including tech enthusiasts, libertarians, and criminals.\n",
    "\n",
    "Silk Road (2011–2013): The infamous dark web marketplace used Bitcoin for illegal transactions. Shut down by the FBI in 2013; its operator, Ross Ulbricht, was sentenced to life in prison.\n",
    "\n",
    "Fraud mostly involved unregulated exchanges and Ponzi schemes, such as Bitcoin Savings and Trust (2011), where operator Trendon Shavers defrauded investors of ~$4.5 million.\n",
    "\n",
    "2. ICO Boom and Bust (2016–2018):\n",
    "The rise of Initial Coin Offerings (ICOs) led to an explosion of fraud. Startups raised billions by offering tokens with little regulation or oversight.\n",
    "\n",
    "Example: Centra Tech (2017), endorsed by celebrities like Floyd Mayweather and DJ Khaled, defrauded investors of over $25 million. Founders were later charged by the SEC.\n",
    "\n",
    "The SEC began cracking down, labeling many ICOs as illegal securities offerings.\n",
    "\n",
    "3. DeFi, Stablecoins, and Rug Pulls (2019–2021):\n",
    "Decentralized Finance (DeFi) platforms promised new investment opportunities but introduced new risks.\n",
    "\n",
    "Rug pulls became common—developers would launch tokens and drain funds after price pumps.\n",
    "\n",
    "Notable case: Thodex (2021, Turkish exchange used by U.S. citizens), where $2 billion vanished and the founder fled.\n",
    "\n",
    "Pump-and-dump schemes, fake celebrity endorsements, and scam airdrops flourished.\n",
    "\n",
    "4. Major Collapses and Criminal Prosecutions (2022–Present):\n",
    "TerraUSD Collapse (2022): Stablecoin Terra and its sister token LUNA collapsed, erasing $60 billion in value globally, including U.S. investor funds.\n",
    "\n",
    "FTX Collapse (2022): Sam Bankman-Fried’s crypto exchange filed for bankruptcy, losing ~$8 billion in user funds. SBF was convicted of fraud in 2023.\n",
    "\n",
    "Celsius, BlockFi, and Voyager also declared bankruptcy, revealing unsustainable models and risky lending practices.\n",
    "\n",
    "🛡️ U.S. Policy and Regulatory Responses\n",
    "1. Existing Legal Frameworks Applied\n",
    "SEC (Securities and Exchange Commission): Regulates cryptocurrencies that qualify as securities. Has pursued many enforcement actions, especially after the 2017 ICO boom.\n",
    "\n",
    "CFTC (Commodity Futures Trading Commission): Regulates crypto derivatives and considers Bitcoin a commodity.\n",
    "\n",
    "DOJ (Department of Justice): Handles criminal cases involving fraud, money laundering, and sanctions evasion.\n",
    "\n",
    "2. Key Regulatory and Policy Developments\n",
    "FinCEN Guidance (2013–2021): Applied Anti-Money Laundering (AML) rules to crypto exchanges, requiring KYC/AML compliance.\n",
    "\n",
    "Infrastructure Investment and Jobs Act (2021): Introduced new tax reporting rules for digital asset brokers, effective 2023 onward.\n",
    "\n",
    "Executive Order on Digital Assets (March 2022): Directed a coordinated federal response across agencies and emphasized consumer protection and financial stability.\n",
    "\n",
    "Lummis-Gillibrand Crypto Bill (2022–Ongoing): Proposed bipartisan legislation to clarify definitions and split oversight between SEC and CFTC. Still under debate.\n",
    "\n",
    "3. Enforcement Trends\n",
    "The SEC, CFTC, and DOJ have ramped up enforcement:\n",
    "\n",
    "SBF/FTX (2022–2023): Major conviction with broad implications.\n",
    "\n",
    "Binance (2023): Settled with U.S. authorities for $4.3 billion for money laundering and sanctions violations.\n",
    "\n",
    "Increased scrutiny of stablecoins, DeFi platforms, and NFT projects used for fraud or money laundering.\n",
    "\n"
   ]
  },
  {
   "cell_type": "markdown",
   "id": "44df8274-f532-4103-9b8a-a882aa23eb86",
   "metadata": {},
   "source": [
    "## Generate Data Analysis Prompt for OpenAI Model\n",
    "\n",
    "To investigate why diamonds with **IF (Internally Flawless) clarity** have the **lowest average price**, we generate a structured prompt for the OpenAI model. The model will analyze the dataset and generate insights, including **Python code for visualizations**.\n"
   ]
  },
  {
   "cell_type": "code",
   "execution_count": 11,
   "id": "09d7ac96-aef2-425c-91ae-6b004a3ccce3",
   "metadata": {},
   "outputs": [],
   "source": [
    "data_prompt = f\"\"\"How has U.S. cryptocurrency policy evolved in response to major fraud cases between 2013 and 2024?\n",
    "here is hte history of \n",
    "\n",
    "\n",
    "🛡️ U.S. Policy and Regulatory Responses\n",
    "1. Existing Legal Frameworks Applied\n",
    "SEC (Securities and Exchange Commission): Regulates cryptocurrencies that qualify as securities. Has pursued many enforcement actions, especially after the 2017 ICO boom.\n",
    "\n",
    "CFTC (Commodity Futures Trading Commission): Regulates crypto derivatives and considers Bitcoin a commodity.\n",
    "\n",
    "DOJ (Department of Justice): Handles criminal cases involving fraud, money laundering, and sanctions evasion.\n",
    "\n",
    "2. Key Regulatory and Policy Developments\n",
    "FinCEN Guidance (2013–2021): Applied Anti-Money Laundering (AML) rules to crypto exchanges, requiring KYC/AML compliance.\n",
    "\n",
    "Infrastructure Investment and Jobs Act (2021): Introduced new tax reporting rules for digital asset brokers, effective 2023 onward.\n",
    "\n",
    "Executive Order on Digital Assets (March 2022): Directed a coordinated federal response across agencies and emphasized consumer protection and financial stability.\n",
    "\n",
    "Lummis-Gillibrand Crypto Bill (2022–Ongoing): Proposed bipartisan legislation to clarify definitions and split oversight between SEC and CFTC. Still under debate.\n",
    "\n",
    "3. Enforcement Trends\n",
    "The SEC, CFTC, and DOJ have ramped up enforcement:\n",
    "\n",
    "SBF/FTX (2022–2023): Major conviction with broad implications.\n",
    "\n",
    "Binance (2023): Settled with U.S. authorities for $4.3 billion for money laundering and sanctions violations.\n",
    "\n",
    "Increased scrutiny of stablecoins, DeFi platforms, and NFT projects used for fraud or money laundering.\n",
    "\n",
    "\n",
    "\n",
    "\"\"\"\n",
    "# print(prompt)"
   ]
  },
  {
   "cell_type": "markdown",
   "id": "0e269bba-2c1a-47e9-9662-3542873fa8ce",
   "metadata": {},
   "source": [
    "## Define a Function to Get Assistance from OpenAI GPT-4o\n",
    "\n",
    "The following function, `openai_gpt_help()`, sends a prompt to OpenAI's **GPT-4o model** and returns a response. It also prints the number of tokens used in the request."
   ]
  },
  {
   "cell_type": "code",
   "execution_count": 12,
   "id": "8a02a837-a5c0-409e-92ce-7ae93e58c834",
   "metadata": {},
   "outputs": [],
   "source": [
    "def openai_gpt_help(prompt):\n",
    "    messages = [{\"role\": \"user\", \"content\": prompt}]\n",
    "    response = client.chat.completions.create(\n",
    "        model='gpt-4o',\n",
    "        messages=messages,\n",
    "        temperature = 0\n",
    "    )\n",
    "    token_usage = response.usage\n",
    "    \n",
    "    pprint(f\"Tokens used: {token_usage}\")\n",
    "\n",
    "    return response.choices[0].message.content"
   ]
  },
  {
   "cell_type": "code",
   "execution_count": 13,
   "id": "df292b10-8857-4902-b2e4-8dab5602d204",
   "metadata": {},
   "outputs": [
    {
     "name": "stdout",
     "output_type": "stream",
     "text": [
      "('Tokens used: CompletionUsage(completion_tokens=666, prompt_tokens=340, '\n",
      " 'total_tokens=1006, '\n",
      " 'completion_tokens_details=CompletionTokensDetails(accepted_prediction_tokens=0, '\n",
      " 'audio_tokens=0, reasoning_tokens=0, rejected_prediction_tokens=0), '\n",
      " 'prompt_tokens_details=PromptTokensDetails(audio_tokens=0, cached_tokens=0))')\n"
     ]
    }
   ],
   "source": [
    "gpt_result = openai_gpt_help(prompt=data_prompt)"
   ]
  },
  {
   "cell_type": "code",
   "execution_count": 14,
   "id": "1360e35d-3dda-4447-8b5e-f58d16ad91d3",
   "metadata": {},
   "outputs": [
    {
     "data": {
      "text/markdown": [
       "The evolution of U.S. cryptocurrency policy in response to major fraud cases from 2013 to 2024 reflects a growing recognition of the need for comprehensive regulation and enforcement in the rapidly evolving digital asset space. Here's a detailed look at how U.S. policy has adapted over this period:\n",
       "\n",
       "### Early Regulatory Frameworks and Initial Responses (2013–2017)\n",
       "\n",
       "1. **Application of Existing Legal Frameworks:**\n",
       "   - **SEC:** Initially focused on applying securities laws to cryptocurrencies that qualified as securities, particularly after the 2017 Initial Coin Offering (ICO) boom. The SEC pursued numerous enforcement actions against fraudulent ICOs.\n",
       "   - **CFTC:** Recognized Bitcoin as a commodity and began regulating crypto derivatives, setting the stage for future oversight.\n",
       "   - **DOJ:** Engaged in criminal prosecutions related to fraud, money laundering, and sanctions evasion involving cryptocurrencies.\n",
       "\n",
       "2. **FinCEN Guidance (2013–2021):**\n",
       "   - Introduced Anti-Money Laundering (AML) rules for crypto exchanges, mandating Know Your Customer (KYC) and AML compliance to prevent illicit activities.\n",
       "\n",
       "### Regulatory Developments and Increased Enforcement (2018–2021)\n",
       "\n",
       "1. **Infrastructure Investment and Jobs Act (2021):**\n",
       "   - Implemented new tax reporting requirements for digital asset brokers, effective from 2023, to enhance transparency and tax compliance.\n",
       "\n",
       "2. **Increased Enforcement:**\n",
       "   - The SEC, CFTC, and DOJ intensified their enforcement actions, targeting fraudulent schemes and ensuring compliance with existing regulations.\n",
       "\n",
       "### Coordinated Federal Response and Legislative Efforts (2022–2024)\n",
       "\n",
       "1. **Executive Order on Digital Assets (March 2022):**\n",
       "   - Directed a coordinated federal response to digital assets, emphasizing consumer protection, financial stability, and the need for a unified regulatory approach across agencies.\n",
       "\n",
       "2. **Lummis-Gillibrand Crypto Bill (2022–Ongoing):**\n",
       "   - Proposed bipartisan legislation aimed at clarifying regulatory definitions and dividing oversight responsibilities between the SEC and CFTC. The bill remains under debate, reflecting ongoing discussions about the best regulatory approach.\n",
       "\n",
       "3. **High-Profile Enforcement Cases:**\n",
       "   - **SBF/FTX (2022–2023):** The conviction of Sam Bankman-Fried and the collapse of FTX highlighted the need for stringent oversight and had broad implications for the industry.\n",
       "   - **Binance (2023):** The settlement with U.S. authorities for $4.3 billion over money laundering and sanctions violations underscored the importance of compliance and the risks of regulatory breaches.\n",
       "\n",
       "4. **Focus on Emerging Areas:**\n",
       "   - Increased scrutiny of stablecoins, decentralized finance (DeFi) platforms, and non-fungible token (NFT) projects, particularly those used for fraud or money laundering, indicating a proactive approach to emerging risks.\n",
       "\n",
       "### Conclusion\n",
       "\n",
       "The U.S. cryptocurrency policy has evolved significantly in response to major fraud cases, moving from applying existing legal frameworks to developing new regulations and enforcement strategies. The focus has been on enhancing consumer protection, ensuring financial stability, and adapting to the dynamic nature of the crypto industry. As the landscape continues to evolve, further regulatory developments and legislative efforts are expected to address ongoing challenges and opportunities in the digital asset space."
      ],
      "text/plain": [
       "<IPython.core.display.Markdown object>"
      ]
     },
     "metadata": {},
     "output_type": "display_data"
    }
   ],
   "source": [
    "display(Markdown(gpt_result))"
   ]
  },
  {
   "cell_type": "markdown",
   "id": "fe9551f9-c50c-4d42-9633-a46238de3955",
   "metadata": {},
   "source": [
    "Reflect on the model’s performance, its insights, and any limitations....\n",
    "\n",
    "Performance:\n",
    "The model effectively traced the timeline of major cryptocurrency fraud cases in the U.S. from 2013 to 2024 and linked them to corresponding shifts in federal policy. It demonstrated how policy often follows publicized failures—such as Silk Road prompting early FinCEN involvement, or the collapse of FTX accelerating calls for comprehensive legislation. The organization of events into eras helped clarify the gradual but reactive nature of policy development.\n",
    "\n",
    "Insights:\n",
    "One of the clearest insights is that U.S. crypto policy is largely reactive. Major fraud cases serve as wake-up calls for regulators, pushing agencies like the SEC, CFTC, and DOJ to step up enforcement or clarify their jurisdictions. Another insight is the evolving role of different agencies—early responses came from law enforcement while later phases involved more financial regulators and even Congress. The reflection also highlights the tension between innovation and regulation, especially in areas like DeFi and stablecoins.\n",
    "\n",
    "Limitations:\n",
    "\n",
    "Lack of quantitative analysis....While the timeline and qualitative link between fraud and policy are clear, the model doesn't measure the exact quantitative effectiveness of these policies. This approach could be applied to real-world intelligence workflows as long as its limitations are highlighted and made clear to all who are impacted/use the findings. \n"
   ]
  }
 ],
 "metadata": {
  "kernelspec": {
   "display_name": "conda_python3",
   "language": "python",
   "name": "conda_python3"
  },
  "language_info": {
   "codemirror_mode": {
    "name": "ipython",
    "version": 3
   },
   "file_extension": ".py",
   "mimetype": "text/x-python",
   "name": "python",
   "nbconvert_exporter": "python",
   "pygments_lexer": "ipython3",
   "version": "3.10.16"
  }
 },
 "nbformat": 4,
 "nbformat_minor": 5
}
